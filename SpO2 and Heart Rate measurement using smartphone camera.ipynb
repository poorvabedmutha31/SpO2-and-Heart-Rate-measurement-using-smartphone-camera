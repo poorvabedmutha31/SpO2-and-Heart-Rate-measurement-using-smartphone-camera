{
 "cells": [
  {
   "cell_type": "markdown",
   "metadata": {
    "id": "4OfYWjAcKHYY"
   },
   "source": [
    "## **SpO2 and Heart Rate measurement using smartphone camera**\n",
    "\n",
    "### Poorva Bedmutha\n",
    "\n",
    "<hr>\n",
    "\n",
    "### **Determination** of SpO2 and heartrate using smartphone camera\n",
    "\n",
    "#### **Introduction**\n",
    "This notebook largely bases its implementation on the paper [\"Physiological Parameter Monitoring from Optical\n",
    "Recordings With a Mobile Phone\"](https://sci-hub.st/https://ieeexplore.ieee.org/abstract/document/5963704) by Scully et. al. \n",
    "\n",
    "#### **Importing Libraries**\n",
    "The following libraries are needed. They can be installed by pip install <lib-name> \n",
    "*   cv2 for image operations\n",
    "*   os for file reading\n",
    "*   numpy for array based operations\n",
    "*   statistics for mean function (can use np.mean too)\n",
    "*   matplotlib for plotting\n",
    "*   scipy.signal for signal processing\n",
    "   "
   ]
  },
  {
   "cell_type": "code",
   "execution_count": 1,
   "metadata": {
    "id": "dQypaeseckmP"
   },
   "outputs": [],
   "source": [
    "import cv2\n",
    "import os\n",
    "import numpy as np\n",
    "from statistics import mean \n",
    "import matplotlib.pyplot as plt\n",
    "import scipy.signal"
   ]
  },
  {
   "cell_type": "markdown",
   "metadata": {},
   "source": [
    "#### **File Structure**\n",
    "All files are names as \"*lash_xx_yy\" where xx is the SpO<sub>2</sub> reading and yy is the heart rate. All data is matched using oximeter readings taken simultaneously. The readings as spread across age, brightness and gender."
   ]
  },
  {
   "cell_type": "code",
   "execution_count": 2,
   "metadata": {
    "id": "UiGUHOGbJz5F"
   },
   "outputs": [
    {
     "data": {
      "text/plain": [
       "['flash_96_85.mp4',\n",
       " 'flash_97_90.mp4',\n",
       " 'flash_98_71.mp4',\n",
       " 'flash_98_75.mp4',\n",
       " 'flash_98_78.mp4',\n",
       " 'flash_98_80.mp4',\n",
       " 'flash_98_81.mp4',\n",
       " 'flash_98_86.mp4',\n",
       " 'flash_98_88.mp4',\n",
       " 'flash_98_90.mp4',\n",
       " 'flash_98_93.mp4',\n",
       " 'flash_98_97.mp4',\n",
       " 'flash_99_104.mp4',\n",
       " 'flash_99_106.mp4',\n",
       " 'flash_99_112.mp4',\n",
       " 'flash_99_65.mp4',\n",
       " 'flash_99_68.mp4',\n",
       " 'flash_99_71.mp4',\n",
       " 'flash_99_74.mp4',\n",
       " 'flash_99_76.mp4',\n",
       " 'flash_99_77.mp4',\n",
       " 'flash_99_81.mp4',\n",
       " 'flash_99_83.mp4',\n",
       " 'flash_99_84.mp4',\n",
       " 'flash_99_85.mp4',\n",
       " 'flash_99_90.mp4',\n",
       " 'flash_99_95.mp4',\n",
       " 'flash_99_99.mp4',\n",
       " 'slash_99_81.mp4']"
      ]
     },
     "execution_count": 2,
     "metadata": {},
     "output_type": "execute_result"
    }
   ],
   "source": [
    "# Read all files\n",
    "\n",
    "data_folder = \"./Flash_Train_Data/\"\n",
    "files = os.listdir(data_folder)\n",
    "files"
   ]
  },
  {
   "cell_type": "markdown",
   "metadata": {},
   "source": [
    "### Extracting output values from file name\n",
    "\n",
    "This is done by taking digits from specific indices to get spo2 and heart rate respectively"
   ]
  },
  {
   "cell_type": "code",
   "execution_count": 3,
   "metadata": {},
   "outputs": [],
   "source": [
    "def y_list(files):\n",
    "    for i in range(len(files)):\n",
    "        file_name = files[i]\n",
    "        spo2_y.append(int(file_name[6:8]))\n",
    "        hr_y.append(int(file_name[9:-4]))\n",
    "    return spo2_y, hr_y"
   ]
  },
  {
   "cell_type": "code",
   "execution_count": 4,
   "metadata": {
    "scrolled": true
   },
   "outputs": [
    {
     "data": {
      "text/plain": [
       "([96,\n",
       "  97,\n",
       "  98,\n",
       "  98,\n",
       "  98,\n",
       "  98,\n",
       "  98,\n",
       "  98,\n",
       "  98,\n",
       "  98,\n",
       "  98,\n",
       "  98,\n",
       "  99,\n",
       "  99,\n",
       "  99,\n",
       "  99,\n",
       "  99,\n",
       "  99,\n",
       "  99,\n",
       "  99,\n",
       "  99,\n",
       "  99,\n",
       "  99,\n",
       "  99,\n",
       "  99,\n",
       "  99,\n",
       "  99,\n",
       "  99,\n",
       "  99],\n",
       " [85,\n",
       "  90,\n",
       "  71,\n",
       "  75,\n",
       "  78,\n",
       "  80,\n",
       "  81,\n",
       "  86,\n",
       "  88,\n",
       "  90,\n",
       "  93,\n",
       "  97,\n",
       "  104,\n",
       "  106,\n",
       "  112,\n",
       "  65,\n",
       "  68,\n",
       "  71,\n",
       "  74,\n",
       "  76,\n",
       "  77,\n",
       "  81,\n",
       "  83,\n",
       "  84,\n",
       "  85,\n",
       "  90,\n",
       "  95,\n",
       "  99,\n",
       "  81])"
      ]
     },
     "execution_count": 4,
     "metadata": {},
     "output_type": "execute_result"
    }
   ],
   "source": [
    "spo2_y = []\n",
    "hr_y = []\n",
    "\n",
    "spo2_y, hr_y = y_list(files)\n",
    "spo2_y, hr_y"
   ]
  },
  {
   "cell_type": "markdown",
   "metadata": {
    "id": "3c4OatD1GjXf"
   },
   "source": [
    "#### SpO2 definition \n",
    "\n",
    "While this is highly inaccurate, for the sake of replicability I keep the formula same. I also tried to add different other features but did not see much improvement and hence discarded their use.\n",
    "\n",
    "$SpO2 = A + B * [\\frac{AC_{red}/DC_{red}}{AC_{blue}/DC_{blue}}]$\n",
    "\n",
    "Here AC and DC represent the AC and DC component of the signal (video) respectively. The DC value is given by the mean while variance gives the AC.\n",
    "\n",
    "As per the paper, based on their trials, A = 100 and B = -5 are the best coefficients.\n",
    "\n",
    "Since we need to calibrate with respect to our data we propose a small tweak. We take the first <i>k</i> values as train samples or known samples and calculate A and B with them using linear regression. We then calculate SpO2 for the remaining samples to check for its correctness."
   ]
  },
  {
   "cell_type": "markdown",
   "metadata": {},
   "source": [
    "#### The Processing Function\n",
    "\n",
    "This function takes in images and calculates the AC/DC values as well as the frame rate for the video. The frames(images) are split into R,G,B channels and their mean and variance is calculated. The ratio of AC/DC for red to blue is referred to as x."
   ]
  },
  {
   "cell_type": "code",
   "execution_count": 5,
   "metadata": {
    "colab": {
     "base_uri": "https://localhost:8080/"
    },
    "id": "-5r4yz_lakI2",
    "outputId": "96daf336-e63c-416a-b6cc-17f00e166d94"
   },
   "outputs": [],
   "source": [
    "def process(filepath):\n",
    "    vidcap = cv2.VideoCapture(filepath)\n",
    "    count = 0\n",
    "    success = vidcap.isOpened()\n",
    "    mean_DC_R = []\n",
    "    mean_DC_B = []\n",
    "    var_AC_R = []\n",
    "    var_AC_B = []\n",
    "    mean_DC_avg = []\n",
    "    frames = 0\n",
    "\n",
    "    while success:\n",
    "        success, image = vidcap.read()\n",
    "\n",
    "        if success == False:\n",
    "            break\n",
    "\n",
    "        img = cv2.resize(image, (320,240))\n",
    "        r = img.copy()[:,:,2]\n",
    "        b = img.copy()[:,:,0]\n",
    "        mean_DC_R.append(r.mean())\n",
    "        mean_DC_B.append(b.mean())\n",
    "        mean_DC_avg.append(img.mean())\n",
    "        var_AC_R.append(r.var())\n",
    "        var_AC_B.append(b.var())\n",
    "    \n",
    "    x = (mean(var_AC_R)/mean(mean_DC_R))/(mean(var_AC_B)/mean(mean_DC_B))\n",
    "    \n",
    "    fps = vidcap.get(cv2.CAP_PROP_FPS)\n",
    "\n",
    "    return x, mean_DC_R, mean_DC_avg, fps"
   ]
  },
  {
   "cell_type": "markdown",
   "metadata": {},
   "source": [
    "#### Get SpO<sub>2</sub> function\n",
    "\n",
    "This function takes in the coefficients returned by the linear model trained on the given _k_ files and calculates the SpO<sub>2</sub> value with the AC/DC values of red and blue frames of thr input video."
   ]
  },
  {
   "cell_type": "code",
   "execution_count": 6,
   "metadata": {},
   "outputs": [],
   "source": [
    "def get_spo2(x, A=100, B=-5):\n",
    "    spo2 = A+B*x\n",
    "    return spo2"
   ]
  },
  {
   "cell_type": "markdown",
   "metadata": {},
   "source": [
    "#### Get Heart Rate\n",
    "\n",
    "The heart rate is analogous to the number of peaks in the given video for a particular quantity. Two papers define two signals for this purpose. The function is generic and can take any signal to get heart rate in beats per minute."
   ]
  },
  {
   "cell_type": "code",
   "execution_count": 7,
   "metadata": {},
   "outputs": [],
   "source": [
    "def get_hr(signal, fps = 30):\n",
    "    peaks = scipy.signal.find_peaks(signal)\n",
    "    npeaks = len(peaks[0])\n",
    "    hr = 60*npeaks/(len(signal)/fps)\n",
    "    return hr"
   ]
  },
  {
   "cell_type": "markdown",
   "metadata": {},
   "source": [
    "#### Calculate all values required for all files "
   ]
  },
  {
   "cell_type": "code",
   "execution_count": 8,
   "metadata": {},
   "outputs": [
    {
     "name": "stdout",
     "output_type": "stream",
     "text": [
      "flash_96_85.mp4 0.2551065313810545 29.59697970639149\n",
      "flash_97_90.mp4 0.7284331546002324 29.593064725383407\n",
      "flash_98_71.mp4 0.6237785358168543 29.587767063276907\n",
      "flash_98_75.mp4 0.6044118509848485 29.608710002339215\n",
      "flash_98_78.mp4 1.0670264080247507 29.585370229428698\n",
      "flash_98_80.mp4 0.23887025561802605 29.576771709992784\n",
      "flash_98_81.mp4 0.7177337381072377 29.598452520971644\n",
      "flash_98_86.mp4 0.7193930526556702 29.58976169891504\n",
      "flash_98_88.mp4 0.6850321563714015 29.608594702719834\n",
      "flash_98_90.mp4 0.7744121983290799 29.585765903670215\n",
      "flash_98_93.mp4 0.9846294921136471 29.59598196179707\n",
      "flash_98_97.mp4 0.763756541034568 29.596538733427934\n",
      "flash_99_104.mp4 0.7248219111486287 29.571907548926212\n",
      "flash_99_106.mp4 1.0906014439786098 29.563449656479893\n",
      "flash_99_112.mp4 1.0228001104490658 29.528104575996167\n",
      "flash_99_65.mp4 0.5887459773887708 29.596084857611054\n",
      "flash_99_68.mp4 1.0094926145908425 29.608783352537543\n",
      "flash_99_71.mp4 1.291037208271805 29.597543648660874\n",
      "flash_99_74.mp4 1.1458550798939984 29.584854145936244\n",
      "flash_99_76.mp4 0.6476783488854817 29.249630584250408\n",
      "flash_99_77.mp4 0.7060113400773396 29.58515594051545\n",
      "flash_99_81.mp4 1.2699108922291544 29.587387765663983\n",
      "flash_99_83.mp4 0.7116814209990677 29.582332943982365\n",
      "flash_99_84.mp4 0.8722624710310644 29.585798816568047\n",
      "flash_99_85.mp4 0.70740793865672 29.597405177292295\n",
      "flash_99_90.mp4 2.467162444570698 30.00146572046268\n",
      "flash_99_95.mp4 0.7387130225835008 29.585268630655108\n",
      "flash_99_99.mp4 0.7918858963928107 29.58880693574434\n",
      "slash_99_81.mp4 1.0256088131974925 24.93136429684787\n"
     ]
    }
   ],
   "source": [
    "X = []\n",
    "DC_R = []\n",
    "DC_avg = []\n",
    "frames = []\n",
    "\n",
    "for file in files:\n",
    "    x, mean_DC_R, mean_DC_avg, fps = process(os.path.join(data_folder,file))\n",
    "    X.append(x)\n",
    "    DC_R.append(mean_DC_R)\n",
    "    DC_avg.append(mean_DC_avg)\n",
    "    frames.append(fps)\n",
    "    print(file, x, fps)"
   ]
  },
  {
   "cell_type": "markdown",
   "metadata": {},
   "source": [
    "### Calibration\n",
    "\n",
    "As discussed above the first k values are taken to calibrate A and B coefficients. These coefficients will be used to find SpO2 for other samples."
   ]
  },
  {
   "cell_type": "code",
   "execution_count": 9,
   "metadata": {},
   "outputs": [],
   "source": [
    "k = 18\n",
    "spo2_cal = spo2_y[:k]\n",
    "X_train = X[:k]"
   ]
  },
  {
   "cell_type": "markdown",
   "metadata": {},
   "source": [
    "#### Calculate line fit\n",
    "\n",
    "The line fit is taken by taking a numpy polyfit of order 1. The coefficients A and B are the intercept and slope respectively."
   ]
  },
  {
   "cell_type": "code",
   "execution_count": 10,
   "metadata": {},
   "outputs": [
    {
     "data": {
      "text/plain": [
       "(96.85096488455778, 1.7050028980809404)"
      ]
     },
     "execution_count": 10,
     "metadata": {},
     "output_type": "execute_result"
    }
   ],
   "source": [
    "linear_model = np.polyfit(X_train,spo2_cal,1)\n",
    "linear_model_fn=np.poly1d(linear_model)\n",
    "B, A = linear_model\n",
    "A, B"
   ]
  },
  {
   "cell_type": "markdown",
   "metadata": {},
   "source": [
    "#### Checking the fit"
   ]
  },
  {
   "cell_type": "code",
   "execution_count": 11,
   "metadata": {},
   "outputs": [
    {
     "data": {
      "image/png": "[encoded data removed]",
      "text/plain": [
       "<Figure size 432x288 with 1 Axes>"
      ]
     },
     "metadata": {
      "needs_background": "light"
     },
     "output_type": "display_data"
    }
   ],
   "source": [
    "x_s = np.sort(X_train)\n",
    "plt.plot(x_s,linear_model_fn(x_s),color=\"green\",marker=\">\")\n",
    "plt.scatter(X, spo2_y, marker=\"*\")\n",
    "plt.scatter(X_train, spo2_cal, marker=\".\")\n",
    "\n",
    "test_x = np.sort([0.3,0.9, 1,0.85])\n",
    "plt.scatter(test_x, linear_model_fn(test_x), color=\"black\",marker=\".\")\n",
    "plt.legend(['Model Fit','Complete Data','Train Data'])\n",
    "plt.show()"
   ]
  },
  {
   "cell_type": "markdown",
   "metadata": {},
   "source": [
    "#### Testing\n",
    "\n",
    "The sample beyond k are taken for testing the fit on real life data"
   ]
  },
  {
   "cell_type": "code",
   "execution_count": 12,
   "metadata": {},
   "outputs": [],
   "source": [
    "X_test = X[k:]\n",
    "y_test = spo2_y[k:]"
   ]
  },
  {
   "cell_type": "code",
   "execution_count": 13,
   "metadata": {},
   "outputs": [
    {
     "name": "stdout",
     "output_type": "stream",
     "text": [
      "Ground Truth\tPredicted Values\n",
      "99 \t\t 98.8\n",
      "99 \t\t 97.96\n",
      "99 \t\t 98.05\n",
      "99 \t\t 99.02\n",
      "99 \t\t 98.06\n",
      "99 \t\t 98.34\n",
      "99 \t\t 98.06\n",
      "99 \t\t 101.06\n",
      "99 \t\t 98.11\n",
      "99 \t\t 98.2\n",
      "99 \t\t 98.6\n"
     ]
    }
   ],
   "source": [
    "y_pred = get_spo2(np.array(X_test), A, B)\n",
    "print(\"Ground Truth\\tPredicted Values\")\n",
    "for i in range(len(X_test)):\n",
    "    print(y_test[i],\"\\t\\t\" ,np.round(y_pred[i],2))"
   ]
  },
  {
   "cell_type": "code",
   "execution_count": 14,
   "metadata": {},
   "outputs": [
    {
     "data": {
      "image/png": "[encoded data removed]",
      "text/plain": [
       "<Figure size 432x288 with 1 Axes>"
      ]
     },
     "metadata": {
      "needs_background": "light"
     },
     "output_type": "display_data"
    }
   ],
   "source": [
    "plt.scatter(X_test, y_test, marker=\"*\")\n",
    "plt.scatter(X_test, y_pred, marker=\">\")\n",
    "plt.legend([\"True\",\"Pred\"])\n",
    "plt.show()"
   ]
  },
  {
   "cell_type": "code",
   "execution_count": 15,
   "metadata": {},
   "outputs": [
    {
     "name": "stdout",
     "output_type": "stream",
     "text": [
      "RMSE:  0.9557913444207976\n",
      "MAE:   0.808012045418084\n"
     ]
    }
   ],
   "source": [
    "rmse = np.sqrt(np.mean((y_test - y_pred)**2))\n",
    "mae = np.mean(np.abs(y_test - y_pred))\n",
    "print(\"RMSE: \",rmse)\n",
    "print(\"MAE:  \", mae)"
   ]
  },
  {
   "cell_type": "markdown",
   "metadata": {},
   "source": [
    "#### Classification of SpO<sub>2<sub>\n",
    "The readings are classified into three categories namely normal, borderline and warning based on their SpoO<sub>2</sub>\n",
    "*    Normal: > 94%\n",
    "*    Borderline: 90% to 94%\n",
    "*    Warning: < 90%\n",
    "                   \n",
    "Since we did not have data other than normal, I have implemented the classification code but the results will not be a correct measure of the classification"
   ]
  },
  {
   "cell_type": "code",
   "execution_count": 16,
   "metadata": {},
   "outputs": [
    {
     "data": {
      "text/plain": [
       "(array([1., 1., 1., 1., 1., 1., 1., 1., 1., 1., 1.]),\n",
       " array([1, 1, 1, 1, 1, 1, 1, 1, 1, 1, 1]))"
      ]
     },
     "execution_count": 16,
     "metadata": {},
     "output_type": "execute_result"
    }
   ],
   "source": [
    "status_test = np.array(y_test)\n",
    "status_pred = np.array(y_pred)\n",
    "# Normal SpO2 Range\n",
    "status_test[status_test > 94] = 1\n",
    "status_pred[status_pred > 94] = 1\n",
    "# Borderline SpO2 Range\n",
    "status_test[status_test > 90] = 0\n",
    "status_pred[status_pred > 90] = 0\n",
    "# Warning SpO2 Range (Everything which is not normal or borderline)\n",
    "status_test[status_test > 2] = -1\n",
    "status_pred[status_pred > 2] = -1\n",
    "\n",
    "status_pred, status_test"
   ]
  },
  {
   "cell_type": "code",
   "execution_count": 22,
   "metadata": {},
   "outputs": [
    {
     "name": "stdout",
     "output_type": "stream",
     "text": [
      "              precision    recall  f1-score   support\n",
      "\n",
      "           1       1.00      1.00      1.00        11\n",
      "\n",
      "    accuracy                           1.00        11\n",
      "   macro avg       1.00      1.00      1.00        11\n",
      "weighted avg       1.00      1.00      1.00        11\n",
      "\n",
      "[[11]]\n"
     ]
    }
   ],
   "source": [
    "from sklearn.metrics import classification_report, confusion_matrix\n",
    "\n",
    "print(classification_report(status_test, status_pred))\n",
    "print(confusion_matrix(status_test, status_pred))"
   ]
  },
  {
   "cell_type": "markdown",
   "metadata": {},
   "source": [
    "### Heart Rate"
   ]
  },
  {
   "cell_type": "code",
   "execution_count": 18,
   "metadata": {},
   "outputs": [
    {
     "data": {
      "text/plain": [
       "Text(0, 0.5, 'Signal Value')"
      ]
     },
     "execution_count": 18,
     "metadata": {},
     "output_type": "execute_result"
    },
    {
     "data": {
      "image/png": "[encoded data removed]",
      "text/plain": [
       "<Figure size 432x288 with 1 Axes>"
      ]
     },
     "metadata": {
      "needs_background": "light"
     },
     "output_type": "display_data"
    }
   ],
   "source": [
    "# An example\n",
    "\n",
    "plt.plot(DC_R[3])\n",
    "plt.xlabel(\"Samples\")\n",
    "plt.ylabel(\"Signal Value\")"
   ]
  },
  {
   "cell_type": "markdown",
   "metadata": {},
   "source": [
    "#### Getting heart rate\n",
    "\n",
    "We find the peaks per samples in two cases:\n",
    "1. Mean of the red DC component per frame\n",
    "2. Mean of the average DC component per frame"
   ]
  },
  {
   "cell_type": "code",
   "execution_count": 19,
   "metadata": {},
   "outputs": [
    {
     "name": "stdout",
     "output_type": "stream",
     "text": [
      "Mean Red\tMean Average\tActual\n",
      "89.0 \t\t 91.0 bpm\t 85 bpm\n",
      "137.0 \t\t 95.0 bpm\t 90 bpm\n",
      "158.0 \t\t 146.0 bpm\t 71 bpm\n",
      "85.0 \t\t 82.0 bpm\t 75 bpm\n",
      "113.0 \t\t 122.0 bpm\t 78 bpm\n",
      "75.0 \t\t 101.0 bpm\t 80 bpm\n",
      "118.0 \t\t 109.0 bpm\t 81 bpm\n",
      "87.0 \t\t 87.0 bpm\t 86 bpm\n",
      "94.0 \t\t 94.0 bpm\t 88 bpm\n",
      "152.0 \t\t 125.0 bpm\t 90 bpm\n",
      "81.0 \t\t 87.0 bpm\t 93 bpm\n",
      "101.0 \t\t 95.0 bpm\t 97 bpm\n",
      "112.0 \t\t 104.0 bpm\t 104 bpm\n",
      "113.0 \t\t 113.0 bpm\t 106 bpm\n",
      "115.0 \t\t 115.0 bpm\t 112 bpm\n",
      "97.0 \t\t 76.0 bpm\t 65 bpm\n",
      "96.0 \t\t 82.0 bpm\t 68 bpm\n",
      "93.0 \t\t 76.0 bpm\t 71 bpm\n",
      "103.0 \t\t 95.0 bpm\t 74 bpm\n",
      "103.0 \t\t 87.0 bpm\t 76 bpm\n",
      "98.0 \t\t 88.0 bpm\t 77 bpm\n",
      "95.0 \t\t 95.0 bpm\t 81 bpm\n",
      "84.0 \t\t 97.0 bpm\t 83 bpm\n",
      "104.0 \t\t 101.0 bpm\t 84 bpm\n",
      "94.0 \t\t 85.0 bpm\t 85 bpm\n",
      "148.0 \t\t 110.0 bpm\t 90 bpm\n",
      "95.0 \t\t 95.0 bpm\t 95 bpm\n",
      "105.0 \t\t 127.0 bpm\t 99 bpm\n",
      "128.0 \t\t 120.0 bpm\t 81 bpm\n"
     ]
    }
   ],
   "source": [
    "hr_r = []\n",
    "hr_avg = []\n",
    "print(\"Mean Red\\tMean Average\\tActual\")\n",
    "for i in range(len(DC_avg)):\n",
    "    hr_r.append(get_hr(DC_R[i]))\n",
    "    hr_avg.append(get_hr(DC_avg[i]))\n",
    "    print(np.round(hr_r[i]),\"\\t\\t\",np.round(hr_avg[i]),\"bpm\\t\", hr_y[i], \"bpm\")\n",
    "    \n",
    "hr_r = np.array(hr_r)\n",
    "hr_avg = np.array(hr_avg)"
   ]
  },
  {
   "cell_type": "markdown",
   "metadata": {},
   "source": [
    "### Calculating error in HR"
   ]
  },
  {
   "cell_type": "code",
   "execution_count": 20,
   "metadata": {},
   "outputs": [
    {
     "name": "stdout",
     "output_type": "stream",
     "text": [
      "Red Component Mean\n",
      "RMSE:  30.69781146986821\n",
      "MAE:   22.166471427704902\n"
     ]
    }
   ],
   "source": [
    "rmse = np.sqrt(np.mean((hr_y - hr_r)**2))\n",
    "mae = np.mean(np.abs(hr_y - hr_r))\n",
    "print(\"Red Component Mean\")\n",
    "print(\"RMSE: \",rmse)\n",
    "print(\"MAE:  \", mae)"
   ]
  },
  {
   "cell_type": "code",
   "execution_count": 21,
   "metadata": {},
   "outputs": [
    {
     "name": "stdout",
     "output_type": "stream",
     "text": [
      "Red Component Mean\n",
      "RMSE:  22.483523214177893\n",
      "MAE:   15.593829740631096\n"
     ]
    }
   ],
   "source": [
    "rmse = np.sqrt(np.mean((hr_y - hr_avg)**2))\n",
    "mae = np.mean(np.abs(hr_y - hr_avg))\n",
    "print(\"Red Component Mean\")\n",
    "print(\"RMSE: \",rmse)\n",
    "print(\"MAE:  \", mae)"
   ]
  },
  {
   "cell_type": "code",
   "execution_count": null,
   "metadata": {},
   "outputs": [],
   "source": []
  }
 ],
 "metadata": {
  "colab": {
   "collapsed_sections": [],
   "name": "PPG.ipynb",
   "provenance": []
  },
  "kernelspec": {
   "display_name": "Python 3",
   "language": "python",
   "name": "python3"
  },
  "language_info": {
   "codemirror_mode": {
    "name": "ipython",
    "version": 3
   },
   "file_extension": ".py",
   "mimetype": "text/x-python",
   "name": "python",
   "nbconvert_exporter": "python",
   "pygments_lexer": "ipython3",
   "version": "3.7.4"
  }
 },
 "nbformat": 4,
 "nbformat_minor": 1
}
